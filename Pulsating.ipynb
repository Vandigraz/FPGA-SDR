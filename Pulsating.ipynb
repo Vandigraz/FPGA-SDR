{
 "cells": [
  {
   "cell_type": "markdown",
   "id": "6ba021d4-90c5-4bfe-8327-844df23040ba",
   "metadata": {},
   "source": [
    "### Importing the MAJOR libs"
   ]
  },
  {
   "cell_type": "code",
   "execution_count": 1,
   "id": "01cb4648-431d-4cc5-a695-040a5f9664aa",
   "metadata": {},
   "outputs": [
    {
     "name": "stdout",
     "output_type": "stream",
     "text": [
      "Check FPGA [OK].\n"
     ]
    },
    {
     "data": {
      "text/plain": [
       "0"
      ]
     },
     "execution_count": 1,
     "metadata": {},
     "output_type": "execute_result"
    }
   ],
   "source": [
    "from rp_overlay import overlay\n",
    "import rp\n",
    "import time\n",
    "\n",
    "fpga = overlay()\n",
    "rp.rp_Init()"
   ]
  },
  {
   "cell_type": "markdown",
   "id": "a0e4ecfc-0c57-4643-9cd8-e03c1f166f67",
   "metadata": {},
   "source": [
    "## Importing the widget to help with the variable time."
   ]
  },
  {
   "cell_type": "code",
   "execution_count": 2,
   "id": "6d51b212-b49e-4ec9-9992-2d7331f77653",
   "metadata": {},
   "outputs": [],
   "source": [
    "import ipywidgets as widgets\n",
    "from IPython.display import display"
   ]
  },
  {
   "cell_type": "code",
   "execution_count": 3,
   "id": "a20ec9e1-74ba-4c10-9eb5-e116a16d7a48",
   "metadata": {},
   "outputs": [],
   "source": [
    "### RESET of all AO pins"
   ]
  },
  {
   "cell_type": "code",
   "execution_count": 4,
   "id": "c099a5c0-1ad9-4b94-8ea4-dc6e17772069",
   "metadata": {},
   "outputs": [
    {
     "data": {
      "text/plain": [
       "0"
      ]
     },
     "execution_count": 4,
     "metadata": {},
     "output_type": "execute_result"
    }
   ],
   "source": [
    "rp.rp_ApinReset()"
   ]
  },
  {
   "cell_type": "code",
   "execution_count": 5,
   "id": "3fea5c12-2775-4518-a169-70da80b5fc26",
   "metadata": {},
   "outputs": [],
   "source": [
    "## All factory standard to activate an AO pin with a value of voltage."
   ]
  },
  {
   "cell_type": "code",
   "execution_count": 6,
   "id": "db306993-41cc-4e96-92aa-6c48e356e159",
   "metadata": {},
   "outputs": [],
   "source": [
    "#rp.rp_ApinSetValue(rp.RP_AOUT0, 1)\n",
    "#rp.rp_AOpinSetValue(1, 1.5)"
   ]
  },
  {
   "cell_type": "code",
   "execution_count": 7,
   "id": "2ddb510a-8409-47bd-b223-30f56ffcae34",
   "metadata": {},
   "outputs": [],
   "source": [
    "# declaring the values of our amplitude first"
   ]
  },
  {
   "cell_type": "code",
   "execution_count": 8,
   "id": "88cf927a-7b23-47dd-bce2-643b0c4f7063",
   "metadata": {},
   "outputs": [],
   "source": [
    "## the logic levels.\n",
    "ampl_0=0  ## in volts\n",
    "ampl_1=1.8## in volts"
   ]
  },
  {
   "cell_type": "code",
   "execution_count": 9,
   "id": "3bad6a43-5552-42db-a813-35d5ecf5febb",
   "metadata": {},
   "outputs": [],
   "source": [
    "## Setting the times\n",
    "t_prep=1 ## time in seconds\n",
    "t_acq= 3  ## time in seconds for acquiring data and processing.\n"
   ]
  },
  {
   "cell_type": "code",
   "execution_count": 12,
   "id": "575c2401-6205-4644-a7c2-3a6cd4383b44",
   "metadata": {},
   "outputs": [],
   "source": [
    "def vary(n):\n",
    "        t_prep=1 ## time in seconds\n",
    "        t_pulse=n## time in milliseconds\n",
    "        t_acq= 1  ## time in seconds for acquiring data and processing.\n",
    "        \n",
    "        rp.rp_AOpinSetValue(0, ampl_0 )\n",
    "        rp.rp_DpinSetState(rp.RP_LED0, rp.RP_HIGH)\n",
    "        time.sleep(t_prep)\n",
    "        rp.rp_DpinSetState(rp.RP_LED0, rp.RP_LOW)\n",
    "        \n",
    "        rp.rp_AOpinSetValue(0, ampl_1 )\n",
    "        rp.rp_DpinSetState(rp.RP_LED1, rp.RP_HIGH)\n",
    "        time.sleep(t_pulse)\n",
    "        rp.rp_DpinSetState(rp.RP_LED1, rp.RP_LOW)\n",
    "        \n",
    "        rp.rp_AOpinSetValue(0, ampl_0 )\n",
    "        rp.rp_DpinSetState(rp.RP_LED2, rp.RP_HIGH)\n",
    "        time.sleep(t_acq)\n",
    "        rp.rp_DpinSetState(rp.RP_LED2, rp.RP_LOW)\n",
    "    \n",
    "\n",
    "        \n",
    "    "
   ]
  },
  {
   "cell_type": "code",
   "execution_count": 13,
   "id": "68b9a620-8d6f-44db-879c-290643f8b7f6",
   "metadata": {},
   "outputs": [
    {
     "data": {
      "application/vnd.jupyter.widget-view+json": {
       "model_id": "9665b0ed257243059528d9d27d4a2db4",
       "version_major": 2,
       "version_minor": 0
      },
      "text/plain": [
       "interactive(children=(Dropdown(description='n', options=(0.01, 0.02, 0.03, 0.04, 0.05, 0.06, 0.07, 0.08, 0.09,…"
      ]
     },
     "metadata": {},
     "output_type": "display_data"
    }
   ],
   "source": [
    "widgets.interact( vary, n=[0.01,0.02,0.03,0.04,0.05,0.06,0.07,0.08,0.09,0.10,0.11,0.12,0.13,0.14,0.15]); ## the step value is 0.001 sec Range=0.01-0.15s\n"
   ]
  },
  {
   "cell_type": "code",
   "execution_count": 12,
   "id": "b21fe40b-73ff-4dd2-8318-2be84b8c3c48",
   "metadata": {},
   "outputs": [
    {
     "data": {
      "text/plain": [
       "0"
      ]
     },
     "execution_count": 12,
     "metadata": {},
     "output_type": "execute_result"
    }
   ],
   "source": [
    "rp.rp_Release() ##serves to release all resources being used by the RP."
   ]
  },
  {
   "cell_type": "markdown",
   "id": "5a721a73-2eed-49df-9170-5f12487d9794",
   "metadata": {},
   "source": [
    "## Serves to test the t_pulse manually"
   ]
  },
  {
   "cell_type": "code",
   "execution_count": null,
   "id": "4c8d0499-8fad-4707-9423-ea05aebae7c0",
   "metadata": {},
   "outputs": [],
   "source": [
    "rp.rp_AOpinSetValue(0, ampl_1 )\n",
    "time.sleep(t_prep)\n",
    "rp.rp_AOpinSetValue(0, ampl_0 )\n",
    "time.sleep(t_pulse)\n",
    "rp.rp_AOpinSetValue(0, ampl_1 )\n",
    "time.sleep(t_acq)"
   ]
  },
  {
   "cell_type": "code",
   "execution_count": null,
   "id": "171a1e4e-19a7-43c9-a98e-c14d66e99004",
   "metadata": {},
   "outputs": [],
   "source": [
    "rp.rp_AOpinSetValue(0, 1.8)"
   ]
  },
  {
   "cell_type": "code",
   "execution_count": null,
   "id": "9a895031-1858-43ce-abbb-3e7a33f57a21",
   "metadata": {
    "jupyter": {
     "source_hidden": true
    }
   },
   "outputs": [],
   "source": [
    "rp.rp_Release()"
   ]
  },
  {
   "cell_type": "markdown",
   "id": "a976ab4c-7f74-4b49-be3a-c780c301aa99",
   "metadata": {},
   "source": [
    "## You may need to have a look up on this linear graph for the values of T"
   ]
  },
  {
   "cell_type": "code",
   "execution_count": null,
   "id": "4d18553b-462d-4c9f-bd68-8cc71f4d0745",
   "metadata": {},
   "outputs": [],
   "source": [
    "import numpy as np\n",
    "import matplotlib.pyplot as plt"
   ]
  },
  {
   "cell_type": "code",
   "execution_count": null,
   "id": "c44711f8-14be-4955-8e74-66a44ecc78dc",
   "metadata": {},
   "outputs": [],
   "source": [
    "x_values=[0.01,0.02,0.10,0.15,0.20,0.25,0.30,0.35,0.50,1.00] # these are the values of the t_pulse in the code in s\n",
    "\n",
    "y_values= [11.05,21.05,101.0,152.0,202.0,252.0,300,352.0,500.0,1000.0] # values from the scope reading in ms"
   ]
  },
  {
   "cell_type": "code",
   "execution_count": null,
   "id": "1e1e808c-1268-414b-a455-da3c6fff2f02",
   "metadata": {},
   "outputs": [],
   "source": [
    "plt.plot(x_values,y_values)\n",
    "plt.grid()\n",
    "plt.show()"
   ]
  },
  {
   "cell_type": "code",
   "execution_count": null,
   "id": "8dd42936-5046-4f2b-b984-42432d9490ff",
   "metadata": {},
   "outputs": [],
   "source": [
    "code_v=[0,0.5,1.0,1.5,1.8]\n",
    "volt_v=[0.0012,0.471,0.981,1.498,1.796]"
   ]
  },
  {
   "cell_type": "code",
   "execution_count": null,
   "id": "6ddac154-65e5-4379-893a-ee75fb6217cc",
   "metadata": {},
   "outputs": [],
   "source": [
    "plt.plot(code_v,volt_v)\n",
    "plt.grid()\n",
    "plt.show()"
   ]
  },
  {
   "cell_type": "markdown",
   "id": "dcabb5f0-0c59-4a62-9d54-05f88f4a3a87",
   "metadata": {},
   "source": [
    "### TESTING\n"
   ]
  },
  {
   "cell_type": "code",
   "execution_count": null,
   "id": "996d9c7f-79bc-4472-823a-383ad5f06d53",
   "metadata": {},
   "outputs": [],
   "source": [
    "## the logic levels.\n",
    "ampl_0=0  ## in volts\n",
    "ampl_1=1.8## in volts"
   ]
  },
  {
   "cell_type": "code",
   "execution_count": null,
   "id": "7f692647-d458-4a7b-a435-90f8d2da94f7",
   "metadata": {},
   "outputs": [],
   "source": [
    "## Setting the times\n",
    "t_prep=1 ## time in seconds\n",
    "t_acq= 3  ## time in seconds for acquiring data and processing.\n"
   ]
  },
  {
   "cell_type": "code",
   "execution_count": null,
   "id": "1d53522f-248a-491f-b534-94574932b450",
   "metadata": {},
   "outputs": [],
   "source": [
    "while True:\n",
    "        t_prep=1 ## time in seconds\n",
    "        t_pulse=1## time in milliseconds\n",
    "        t_acq= 1  ## time in seconds for acquiring data and processing.\n",
    "        \n",
    "        rp.rp_AOpinSetValue(0, ampl_1 )\n",
    "        time.sleep(t_prep)\n",
    "        \n",
    "        rp.rp_AOpinSetValue(0, ampl_0 )\n",
    "        time.sleep(t_pulse)\n",
    "        \n",
    "        rp.rp_AOpinSetValue(0, ampl_1 )\n",
    "        time.sleep(t_acq)\n",
    "    \n",
    "\n",
    "        \n",
    "    "
   ]
  },
  {
   "cell_type": "code",
   "execution_count": null,
   "id": "b69317dd-9756-49e7-a480-8ec2d4a6a81d",
   "metadata": {},
   "outputs": [],
   "source": []
  },
  {
   "cell_type": "code",
   "execution_count": null,
   "id": "17cb0ff1-9da9-4fb7-a751-7830ac2b3fa0",
   "metadata": {},
   "outputs": [],
   "source": []
  },
  {
   "cell_type": "code",
   "execution_count": null,
   "id": "40583d1c-5dea-476b-bbe6-2abae2064847",
   "metadata": {},
   "outputs": [],
   "source": []
  },
  {
   "cell_type": "code",
   "execution_count": null,
   "id": "40b10855-9d95-44b9-b430-323b4d1cdfb0",
   "metadata": {},
   "outputs": [],
   "source": []
  }
 ],
 "metadata": {
  "kernelspec": {
   "display_name": "Python 3 (RP api)",
   "language": "python",
   "name": "python3"
  },
  "language_info": {
   "codemirror_mode": {
    "name": "ipython",
    "version": 3
   },
   "file_extension": ".py",
   "mimetype": "text/x-python",
   "name": "python",
   "nbconvert_exporter": "python",
   "pygments_lexer": "ipython3",
   "version": "3.10.12"
  }
 },
 "nbformat": 4,
 "nbformat_minor": 5
}

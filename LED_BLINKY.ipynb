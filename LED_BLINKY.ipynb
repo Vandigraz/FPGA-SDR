{
 "cells": [
  {
   "cell_type": "markdown",
   "id": "ed8ec5d0",
   "metadata": {},
   "source": [
    "### SDR 122-16 RedPitaya First Blink from scratch\n"
   ]
  },
  {
   "cell_type": "markdown",
   "id": "8e2e1da4",
   "metadata": {},
   "source": [
    "#### Requirements\n",
    "1. RedPitaya board. SDR 122-16\n",
    "2. Proper connections with the external clock and the UART connection.\n",
    "3. Ethernet cable connected,\n",
    "4. Vivado 2020.1\n",
    "5. The board XDC file - this is the constraint file that has the onboard connections for mapping to the real world."
   ]
  },
  {
   "cell_type": "markdown",
   "id": "1058f55e",
   "metadata": {},
   "source": [
    "#### Procedure"
   ]
  },
  {
   "cell_type": "markdown",
   "id": "f22bb5d5",
   "metadata": {},
   "source": [
    "1. Open Vivado 2020.1; this time not via terminal.\n",
    "2. Create the project by following the prompts.\n",
    "3. add the constraint file. \"red_pitaya_Z20.xdc\" that should be in the SDC folder in the Redpitaya Fpga folder.\n",
    "4. Proceed to make a verilog code of the blinking Led.\n",
    "5. Create a new block diagram and then add the code written as a block module.\n",
    "6. Connect the IPs together while involving the automatic wiring.\n",
    "7. validate the design.\n",
    "8. Using the constraint file, match the names in the design with those in the file.\n",
    "9. Generate a design wrapper.\n",
    "10. Generate the bistream.\n",
    "11. Using the earlier procedure you can send the bit file using SCP to the board.\n"
   ]
  },
  {
   "cell_type": "code",
   "execution_count": null,
   "id": "0edd2599",
   "metadata": {},
   "outputs": [],
   "source": []
  }
 ],
 "metadata": {
  "kernelspec": {
   "display_name": "Python 3 (ipykernel)",
   "language": "python",
   "name": "python3"
  },
  "language_info": {
   "codemirror_mode": {
    "name": "ipython",
    "version": 3
   },
   "file_extension": ".py",
   "mimetype": "text/x-python",
   "name": "python",
   "nbconvert_exporter": "python",
   "pygments_lexer": "ipython3",
   "version": "3.11.7"
  }
 },
 "nbformat": 4,
 "nbformat_minor": 5
}
